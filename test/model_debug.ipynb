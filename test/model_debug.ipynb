{
 "cells": [
  {
   "cell_type": "code",
   "execution_count": 34,
   "metadata": {
    "collapsed": true
   },
   "outputs": [],
   "source": [
    "import sys\n",
    "import os\n",
    "from score_ecard import ecard_model"
   ]
  },
  {
   "cell_type": "code",
   "execution_count": 32,
   "metadata": {},
   "outputs": [],
   "source": [
    "sys.path.append('/Users/zhangxuejing/wqwang/work/git_wq/score_ecard')"
   ]
  },
  {
   "cell_type": "code",
   "execution_count": 14,
   "metadata": {},
   "outputs": [],
   "source": [
    "path_name='/Users/zhangxuejing/wqwang/work/git_wq/score_ecard'"
   ]
  },
  {
   "cell_type": "markdown",
   "metadata": {},
   "source": [
    "# load data"
   ]
  },
  {
   "cell_type": "code",
   "execution_count": 15,
   "metadata": {},
   "outputs": [],
   "source": [
    "df_valid = pd.read_csv( os.path.join(path_name,\"score_ecard/data/train_test_data.csv\"))\n",
    "df_train_data = df_valid[df_valid['train_test_tag'] == '训练集']\n",
    "df_test_data = df_valid[df_valid['train_test_tag'] == '测试集']\n",
    "features_col = ['trip_avg_meters',\n",
    "                'trip_avg_seconds', 'trip_avg_distance', 'high_meters_ratio',\n",
    "                'province_meters_ratio', 'high_trip_cnt_ratio',\n",
    "                'province_trip_cnt_ratio', 'curvature_g2_trip_meters_ratio',\n",
    "                'ng_23_6_seconds_ratio', 'ng_23_6_trip_cnt_ratio', 'daily_run_kmeters',\n",
    "                'daily_run_hours', 'daily_trip_cnt', 'daily_nohigh_kmeters',\n",
    "                'daily_ng_23_6_hours', 'trip_long_cnt_ratio', 'day_high_meters_ratio',\n",
    "                'ng_province_meters_ratio', 'morn_6_10_seconds_ratio',\n",
    "                'dusk_17_20_seconds_ratio', 'ng_23_6_avg_speed', 'morn_6_10_avg_speed',\n",
    "                'dusk_17_20_avg_speed', 'low_speed_seconds_ratio',\n",
    "                'low_speed_block_cnt_ratio', 'week_1_5_seconds_ratio',\n",
    "                'geohash4_top10_meters_ratio', 'trip_r30m_cnt_ratio',\n",
    "                'common_line_top30_cnt_ratio', 'ratio_meitan', 'ratio_gangtie', 'ratio_shashi',\n",
    "                'ratio_kuaidi', 'ratio_nonglinmufu', 'ratio_jiadian', 'ratio_jixie',\n",
    "                'ratio_qiche', 'ratio_fengdian', 'ratio_other'\n",
    "                ]\n",
    "df_X = df_train_data[features_col]\n",
    "df_Y = df_train_data[['label', 'label_ordinary',\n",
    "                      'label_serious', 'label_major', 'label_devastating', 'label_8w','fee_got','report_fee']]\n",
    "df_Y['label']=df_Y.apply(lambda x:x['label'] if x[\"report_fee\"]<5000 else 2,axis=1)"
   ]
  },
  {
   "cell_type": "markdown",
   "metadata": {},
   "source": [
    "# debug"
   ]
  },
  {
   "cell_type": "code",
   "execution_count": 36,
   "metadata": {},
   "outputs": [],
   "source": [
    ""
   ]
  },
  {
   "cell_type": "code",
   "execution_count": 22,
   "metadata": {
    "collapsed": false
   },
   "outputs": [
    {
     "data": {
      "text/plain": [
       "<score_ecard.ecard_model.ECardModel at 0x11ecf1c88>"
      ]
     },
     "execution_count": 22,
     "metadata": {},
     "output_type": "execute_result"
    }
   ],
   "source": [
    ""
   ]
  },
  {
   "cell_type": "code",
   "execution_count": null,
   "metadata": {},
   "outputs": [],
   "source": []
  }
 ],
 "metadata": {
  "kernelspec": {
   "display_name": "Python 2",
   "language": "python",
   "name": "python2"
  },
  "language_info": {
   "codemirror_mode": {
    "name": "ipython",
    "version": 2
   },
   "file_extension": ".py",
   "mimetype": "text/x-python",
   "name": "python",
   "nbconvert_exporter": "python",
   "pygments_lexer": "ipython2",
   "version": "2.7.6"
  }
 },
 "nbformat": 4,
 "nbformat_minor": 0
}
